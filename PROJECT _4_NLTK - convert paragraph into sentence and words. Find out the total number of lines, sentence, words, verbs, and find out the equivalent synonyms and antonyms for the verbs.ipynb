{
 "cells": [
  {
   "cell_type": "code",
   "execution_count": 96,
   "id": "2a00f86a",
   "metadata": {},
   "outputs": [],
   "source": [
    "#NLTK - convert paragraph into sentence and words.\n",
    "#Find out the total number of lines, sentence, words, verbs, and find out the equivalent synonyms and antonyms for the verbs."
   ]
  },
  {
   "cell_type": "code",
   "execution_count": 97,
   "id": "4dcf0adb",
   "metadata": {},
   "outputs": [],
   "source": [
    "paragraph ='Cristiano Ronaldo,(born Feb. 5, 1985, Funchal, Madeira, Port.), Portuguese football (soccer) player. While playing with Manchester United (2003–09), he developed into one of the game’s best forwards, noted for his free-reined attacking style. In 2008 he helped United win a Champions League title, and that year he also was named FIFA World Player of the Year. In 2009 he joined Real Madrid. He won a second world player of the year award (renamed the FIFA Ballon d’Or) after scoring 66 goals in 2013'"
   ]
  },
  {
   "cell_type": "code",
   "execution_count": 98,
   "id": "0f7e4613",
   "metadata": {},
   "outputs": [],
   "source": [
    "import nltk"
   ]
  },
  {
   "cell_type": "code",
   "execution_count": 99,
   "id": "f29ce543",
   "metadata": {},
   "outputs": [],
   "source": [
    "from nltk.tokenize import sent_tokenize\n"
   ]
  },
  {
   "cell_type": "code",
   "execution_count": 100,
   "id": "5fd0d0e4",
   "metadata": {},
   "outputs": [
    {
     "name": "stdout",
     "output_type": "stream",
     "text": [
      "['Cristiano Ronaldo,(born Feb. 5, 1985, Funchal, Madeira, Port.', '), Portuguese football (soccer) player.', 'While playing with Manchester United (2003–09), he developed into one of the game’s best forwards, noted for his free-reined attacking style.', 'In 2008 he helped United win a Champions League title, and that year he also was named FIFA World Player of the Year.', 'In 2009 he joined Real Madrid.', 'He won a second world player of the year award (renamed the FIFA Ballon d’Or) after scoring 66 goals in 2013']\n"
     ]
    }
   ],
   "source": [
    "sentence=sent_tokenize(paragraph)\n",
    "print(sentence)"
   ]
  },
  {
   "cell_type": "code",
   "execution_count": 101,
   "id": "4298a27b",
   "metadata": {},
   "outputs": [
    {
     "name": "stdout",
     "output_type": "stream",
     "text": [
      "total lines: 1\n"
     ]
    }
   ],
   "source": [
    "total_lines=len(paragraph.split('/n'))\n",
    "print(\"total lines:\",total_lines)"
   ]
  },
  {
   "cell_type": "code",
   "execution_count": 102,
   "id": "93dd182a",
   "metadata": {},
   "outputs": [
    {
     "name": "stdout",
     "output_type": "stream",
     "text": [
      "total_sentence: 6\n"
     ]
    }
   ],
   "source": [
    "total_sentence=len(sentence)\n",
    "print(\"total_sentence:\",total_sentence)"
   ]
  },
  {
   "cell_type": "code",
   "execution_count": 103,
   "id": "e144e8ff",
   "metadata": {},
   "outputs": [
    {
     "name": "stderr",
     "output_type": "stream",
     "text": [
      "[nltk_data] Downloading package punkt to\n",
      "[nltk_data]     C:\\Users\\sathish\\AppData\\Roaming\\nltk_data...\n",
      "[nltk_data]   Package punkt is already up-to-date!\n"
     ]
    },
    {
     "data": {
      "text/plain": [
       "True"
      ]
     },
     "execution_count": 103,
     "metadata": {},
     "output_type": "execute_result"
    }
   ],
   "source": [
    "nltk.download('punkt')#frequently used lexim scheme for 14 to 18 languages\n",
    "\n"
   ]
  },
  {
   "cell_type": "code",
   "execution_count": 104,
   "id": "8cb82688",
   "metadata": {},
   "outputs": [],
   "source": [
    "from nltk.tokenize import word_tokenize"
   ]
  },
  {
   "cell_type": "code",
   "execution_count": 105,
   "id": "147f1c22",
   "metadata": {},
   "outputs": [
    {
     "name": "stderr",
     "output_type": "stream",
     "text": [
      "[nltk_data] Downloading package wordnet to\n",
      "[nltk_data]     C:\\Users\\sathish\\AppData\\Roaming\\nltk_data...\n",
      "[nltk_data]   Package wordnet is already up-to-date!\n"
     ]
    },
    {
     "data": {
      "text/plain": [
       "True"
      ]
     },
     "execution_count": 105,
     "metadata": {},
     "output_type": "execute_result"
    }
   ],
   "source": [
    "nltk.download('wordnet')"
   ]
  },
  {
   "cell_type": "code",
   "execution_count": 106,
   "id": "f08a6488",
   "metadata": {},
   "outputs": [
    {
     "name": "stdout",
     "output_type": "stream",
     "text": [
      "['Cristiano', 'Ronaldo', ',', '(', 'born', 'Feb.', '5', ',', '1985', ',', 'Funchal', ',', 'Madeira', ',', 'Port', '.', ')', ',', 'Portuguese', 'football', '(', 'soccer', ')', 'player', '.', 'While', 'playing', 'with', 'Manchester', 'United', '(', '2003–09', ')', ',', 'he', 'developed', 'into', 'one', 'of', 'the', 'game', '’', 's', 'best', 'forwards', ',', 'noted', 'for', 'his', 'free-reined', 'attacking', 'style', '.', 'In', '2008', 'he', 'helped', 'United', 'win', 'a', 'Champions', 'League', 'title', ',', 'and', 'that', 'year', 'he', 'also', 'was', 'named', 'FIFA', 'World', 'Player', 'of', 'the', 'Year', '.', 'In', '2009', 'he', 'joined', 'Real', 'Madrid', '.', 'He', 'won', 'a', 'second', 'world', 'player', 'of', 'the', 'year', 'award', '(', 'renamed', 'the', 'FIFA', 'Ballon', 'd', '’', 'Or', ')', 'after', 'scoring', '66', 'goals', 'in', '2013']\n"
     ]
    }
   ],
   "source": [
    "words=word_tokenize(paragraph)\n",
    "print(words)"
   ]
  },
  {
   "cell_type": "code",
   "execution_count": 107,
   "id": "e49fa3d8",
   "metadata": {},
   "outputs": [
    {
     "name": "stdout",
     "output_type": "stream",
     "text": [
      "total_words: 110\n"
     ]
    }
   ],
   "source": [
    "total_words=len(words)\n",
    "print(\"total_words:\",total_words)"
   ]
  },
  {
   "cell_type": "code",
   "execution_count": 108,
   "id": "63a8b6ec",
   "metadata": {},
   "outputs": [],
   "source": [
    "from nltk.corpus import wordnet"
   ]
  },
  {
   "cell_type": "code",
   "execution_count": 109,
   "id": "16940c75",
   "metadata": {},
   "outputs": [
    {
     "name": "stderr",
     "output_type": "stream",
     "text": [
      "[nltk_data] Downloading package averaged_perceptron_tagger to\n",
      "[nltk_data]     C:\\Users\\sathish\\AppData\\Roaming\\nltk_data...\n",
      "[nltk_data]   Package averaged_perceptron_tagger is already up-to-\n",
      "[nltk_data]       date!\n"
     ]
    },
    {
     "data": {
      "text/plain": [
       "True"
      ]
     },
     "execution_count": 109,
     "metadata": {},
     "output_type": "execute_result"
    }
   ],
   "source": [
    "nltk.download('averaged_perceptron_tagger')"
   ]
  },
  {
   "cell_type": "code",
   "execution_count": 110,
   "id": "ec38657e",
   "metadata": {},
   "outputs": [],
   "source": [
    "#pos(part of speech),[word for word]that satisfy the condition of being tagged as a verb based on the if statement.\n",
    "verbs=[word for word,pos in nltk.pos_tag(words) if pos.startswith('VB')]"
   ]
  },
  {
   "cell_type": "code",
   "execution_count": 111,
   "id": "021c4039",
   "metadata": {},
   "outputs": [
    {
     "name": "stdout",
     "output_type": "stream",
     "text": [
      "total_verbs: ['playing', 'developed', 'noted', 'helped', 'win', 'was', 'named', 'joined', 'won', 'renamed', 'scoring']\n"
     ]
    }
   ],
   "source": [
    "print(\"total_verbs:\",verbs)"
   ]
  },
  {
   "cell_type": "code",
   "execution_count": 112,
   "id": "d351b267",
   "metadata": {},
   "outputs": [],
   "source": [
    "from nltk.stem import WordNetLemmatizer"
   ]
  },
  {
   "cell_type": "code",
   "execution_count": 113,
   "id": "3bcf0f23",
   "metadata": {},
   "outputs": [],
   "source": [
    "lem=WordNetLemmatizer()"
   ]
  },
  {
   "cell_type": "code",
   "execution_count": 114,
   "id": "d4457702",
   "metadata": {},
   "outputs": [
    {
     "name": "stdout",
     "output_type": "stream",
     "text": [
      "Verb: playing\n",
      "Synonyms: ['bet', 'spiel', 'work', 'run', 'dally', 'roleplay', 'playact', 'bring', 'make_for', 'toy', 'encounter', 'meet', 'recreate', 'diddle', 'represent', 'wager', 'take_on', 'play', 'act', 'flirt', 'act_as', 'wreak', 'trifle', 'fiddle']\n",
      "Verb: developed\n",
      "Synonyms: ['uprise', 'educate', 'modernise', 'break', 'acquire', 'develop', 'arise', 'make_grow', 'rise', 'get', 'originate', 'modernize', 'formulate', 'germinate', 'prepare', 'produce', 'build_up', 'spring_up', 'evolve', 'grow', 'train', 'recrudesce', 'explicate']\n",
      "Verb: noted\n",
      "Synonyms: ['remark', 'note', 'observe', 'take_note', 'mention', 'notice', 'mark', 'take_down']\n",
      "Verb: helped\n",
      "Synonyms: ['help_oneself', 'serve', 'facilitate', 'assist', 'avail', 'aid', 'help']\n",
      "Verb: win\n",
      "Synonyms: ['succeed', 'come_through', 'deliver_the_goods', 'make_headway', 'get_ahead', 'advance', 'gain_ground', 'pull_ahead', 'bring_home_the_bacon', 'acquire', 'gain', 'win']\n",
      "Verb: was\n",
      "Synonyms: ['personify', 'represent', 'comprise', 'live', 'exist', 'constitute', 'embody', 'follow', 'cost', 'equal', 'make_up', 'be']\n",
      "Verb: named\n",
      "Synonyms: ['appoint', 'distinguish', 'key', 'nominate', 'mention', 'discover', 'key_out', 'identify', 'bring_up', 'diagnose', 'call', 'advert', 'refer', 'make', 'constitute', 'cite', 'name', 'describe', 'list']\n",
      "Verb: joined\n",
      "Synonyms: ['get_together', 'connect', 'bring_together', 'join', 'conjoin', 'link', 'link_up', 'unite', 'fall_in']\n",
      "Verb: won\n",
      "Synonyms: ['succeed', 'come_through', 'deliver_the_goods', 'make_headway', 'get_ahead', 'advance', 'gain_ground', 'pull_ahead', 'bring_home_the_bacon', 'acquire', 'gain', 'win']\n",
      "Verb: renamed\n",
      "Synonyms: ['rename']\n",
      "Verb: scoring\n",
      "Synonyms: ['make', 'seduce', 'tally', 'nock', 'mark', 'grade', 'score', 'rack_up', 'hit']\n"
     ]
    }
   ],
   "source": [
    "verb_synonyms = {}\n",
    "\n",
    "for verb in verbs:\n",
    "    base_verb = lem.lemmatize(verb, 'v')#Lemmatize the verb to its base form\n",
    "    synonyms = set()\n",
    "    for i in wordnet.synsets(base_verb, pos=wordnet.VERB):\n",
    "        for j in i.lemmas():\n",
    "            synonyms.add(j.name())\n",
    "            verb_synonyms[verb] = list(synonyms)# Store the synonyms in the dictionary\n",
    "for verb, synonyms in verb_synonyms.items():\n",
    "    print(f\"Verb: {verb}\")\n",
    "    print(f\"Synonyms: {synonyms}\")\n"
   ]
  },
  {
   "cell_type": "code",
   "execution_count": 115,
   "id": "97d128d7",
   "metadata": {},
   "outputs": [
    {
     "name": "stdout",
     "output_type": "stream",
     "text": [
      "Word: playing\n",
      "Antonyms: []\n",
      "Word: developed\n",
      "Antonyms: []\n",
      "Word: noted\n",
      "Antonyms: ['ignore']\n",
      "Word: helped\n",
      "Antonyms: []\n",
      "Word: win\n",
      "Antonyms: ['fail', 'fall_back', 'lose']\n",
      "Word: was\n",
      "Antonyms: ['differ']\n",
      "Word: named\n",
      "Antonyms: []\n",
      "Word: joined\n",
      "Antonyms: ['disjoin']\n",
      "Word: won\n",
      "Antonyms: ['fail', 'fall_back', 'lose']\n",
      "Word: renamed\n",
      "Antonyms: []\n",
      "Word: scoring\n",
      "Antonyms: []\n"
     ]
    }
   ],
   "source": [
    "word_antonyms = {}\n",
    "\n",
    "for verb in verbs:\n",
    "    # Lemmatize the word to its base form\n",
    "    base_word = lem.lemmatize(verb, 'v')  \n",
    "    antonyms = set()\n",
    "    for syn in wordnet.synsets(base_word, pos=wordnet.VERB):\n",
    "        for lemma in syn.lemmas():\n",
    "            if lemma.antonyms():\n",
    "                antonyms.add(lemma.antonyms()[0].name())\n",
    "    word_antonyms[verb] = list(antonyms)\n",
    "\n",
    "for verb, antonyms in word_antonyms.items():\n",
    "    print(f\"Word: {verb}\")\n",
    "    print(f\"Antonyms: {antonyms}\")\n",
    "\n",
    "\n",
    "\n",
    "\n",
    "\n"
   ]
  },
  {
   "cell_type": "code",
   "execution_count": 116,
   "id": "e753ae6c",
   "metadata": {},
   "outputs": [
    {
     "name": "stdout",
     "output_type": "stream",
     "text": [
      "Verb: playing\n",
      "Antonyms: []\n",
      "Verb: developed\n",
      "Antonyms: ['undeveloped']\n",
      "Verb: noted\n",
      "Antonyms: []\n",
      "Verb: helped\n",
      "Antonyms: []\n",
      "Verb: win\n",
      "Antonyms: []\n",
      "Verb: was\n",
      "Antonyms: []\n",
      "Verb: named\n",
      "Antonyms: []\n",
      "Verb: joined\n",
      "Antonyms: []\n",
      "Verb: won\n",
      "Antonyms: ['lost']\n",
      "Verb: renamed\n",
      "Antonyms: []\n",
      "Verb: scoring\n",
      "Antonyms: []\n"
     ]
    }
   ],
   "source": [
    "verb_antonyms = {}\n",
    "\n",
    "for verb in verbs:\n",
    "    base_verb = lem.lemmatize(verb, 'a')  # 'a' indicates an adjective for antonyms\n",
    "    antonyms = set()\n",
    "    for syn in wordnet.synsets(base_verb, pos=wordnet.ADJ):\n",
    "        for lemma in syn.lemmas():\n",
    "            if lemma.antonyms():\n",
    "                antonyms.add(lemma.antonyms()[0].name())\n",
    "    verb_antonyms[verb] = list(antonyms)\n",
    "\n",
    "# Print the verb and its antonyms\n",
    "for verb, antonyms in verb_antonyms.items():\n",
    "    print(f\"Verb: {verb}\")\n",
    "    print(f\"Antonyms: {antonyms}\")"
   ]
  },
  {
   "cell_type": "code",
   "execution_count": null,
   "id": "335c6c05",
   "metadata": {},
   "outputs": [],
   "source": []
  },
  {
   "cell_type": "code",
   "execution_count": null,
   "id": "2991fdb8",
   "metadata": {},
   "outputs": [],
   "source": []
  }
 ],
 "metadata": {
  "kernelspec": {
   "display_name": "Python 3 (ipykernel)",
   "language": "python",
   "name": "python3"
  },
  "language_info": {
   "codemirror_mode": {
    "name": "ipython",
    "version": 3
   },
   "file_extension": ".py",
   "mimetype": "text/x-python",
   "name": "python",
   "nbconvert_exporter": "python",
   "pygments_lexer": "ipython3",
   "version": "3.11.4"
  }
 },
 "nbformat": 4,
 "nbformat_minor": 5
}
